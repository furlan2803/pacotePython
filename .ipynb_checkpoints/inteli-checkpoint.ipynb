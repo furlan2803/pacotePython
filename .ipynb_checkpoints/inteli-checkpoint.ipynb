{
 "cells": [
  {
   "cell_type": "code",
   "execution_count": 1,
   "metadata": {},
   "outputs": [],
   "source": [
    "%load_ext autoreload\n",
    "%autoreload 2"
   ]
  },
  {
   "cell_type": "code",
   "execution_count": 2,
   "metadata": {},
   "outputs": [
    {
     "name": "stdout",
     "output_type": "stream",
     "text": [
      "Processing /mnt/c/Users/Giovanna Furlan/OneDrive/Documentos/GitHub/M8/pacotePython\n",
      "  Preparing metadata (setup.py) ... \u001b[?25ldone\n",
      "\u001b[?25hBuilding wheels for collected packages: intelidata\n",
      "  Building wheel for intelidata (setup.py) ... \u001b[?25ldone\n",
      "\u001b[?25h  Created wheel for intelidata: filename=intelidata-0.0.0-py3-none-any.whl size=1828 sha256=2cff8488a06af7c6330477ff5a7bd2cf373df84e1307c9342fe4682b30a206e4\n",
      "  Stored in directory: /tmp/pip-ephem-wheel-cache-m8r2a5yh/wheels/d7/c8/ff/f1ccbf2190d3674f402dfaffe2480c329b82361d73709a9837\n",
      "Successfully built intelidata\n",
      "Installing collected packages: intelidata\n",
      "  Attempting uninstall: intelidata\n",
      "    Found existing installation: intelidata 0.0.0\n",
      "    Uninstalling intelidata-0.0.0:\n",
      "      Successfully uninstalled intelidata-0.0.0\n",
      "Successfully installed intelidata-0.0.0\n"
     ]
    }
   ],
   "source": [
    "!pip install .\n",
    "import os\n",
    "import pandas as pd\n",
    "import intelidata.lib as inteli"
   ]
  },
  {
   "cell_type": "code",
   "execution_count": 4,
   "metadata": {},
   "outputs": [
    {
     "ename": "IsADirectoryError",
     "evalue": "[Errno 21] Is a directory: 'csv/'",
     "output_type": "error",
     "traceback": [
      "\u001b[0;31m---------------------------------------------------------------------------\u001b[0m",
      "\u001b[0;31mIsADirectoryError\u001b[0m                         Traceback (most recent call last)",
      "Cell \u001b[0;32mIn [4], line 9\u001b[0m\n\u001b[1;32m      5\u001b[0m \u001b[38;5;66;03m# check_csv_file = inteli.check_csv_file(input_csv_dir)\u001b[39;00m\n\u001b[1;32m      7\u001b[0m \u001b[38;5;28;01mimport\u001b[39;00m \u001b[38;5;21;01mcsv\u001b[39;00m\n\u001b[0;32m----> 9\u001b[0m \u001b[38;5;28;01mwith\u001b[39;00m \u001b[38;5;28;43mopen\u001b[39;49m\u001b[43m(\u001b[49m\u001b[43minput_csv_dir\u001b[49m\u001b[43m,\u001b[49m\u001b[43m \u001b[49m\u001b[38;5;124;43m'\u001b[39;49m\u001b[38;5;124;43mr\u001b[39;49m\u001b[38;5;124;43m'\u001b[39;49m\u001b[43m,\u001b[49m\u001b[43m \u001b[49m\u001b[43mnewline\u001b[49m\u001b[38;5;241;43m=\u001b[39;49m\u001b[38;5;124;43m'\u001b[39;49m\u001b[38;5;124;43m'\u001b[39;49m\u001b[43m)\u001b[49m \u001b[38;5;28;01mas\u001b[39;00m file:\n\u001b[1;32m     10\u001b[0m     reader \u001b[38;5;241m=\u001b[39m csv\u001b[38;5;241m.\u001b[39mreader(file)\n\u001b[1;32m     11\u001b[0m     header \u001b[38;5;241m=\u001b[39m \u001b[38;5;28mnext\u001b[39m(reader)\n",
      "\u001b[0;31mIsADirectoryError\u001b[0m: [Errno 21] Is a directory: 'csv/'"
     ]
    }
   ],
   "source": [
    "# Especifique o diretório onde estão os arquivos CSV originais\n",
    "input_csv_dir = 'csv/'\n",
    "input_csv_dir\n",
    "\n",
    "# check_csv_file = inteli.check_csv_file(input_csv_dir)\n",
    "\n",
    "import csv\n",
    "\n",
    "with open(input_csv_dir, 'r', newline='') as file:\n",
    "    reader = csv.reader(file)\n",
    "    header = next(reader)\n",
    "\n",
    "    num_fields = len(header) if header else 0\n",
    "\n",
    "    line_number = 1\n",
    "    for row in reader:\n",
    "        line_number += 1\n",
    "        if len(row) != num_fields:\n",
    "            print(f\"Erro na linha {line_number}: Número de campos incorreto. Esperado {num_fields}, encontrado {len(row)}\")"
   ]
  },
  {
   "cell_type": "code",
   "execution_count": 5,
   "metadata": {},
   "outputs": [
    {
     "ename": "PermissionError",
     "evalue": "[Errno 13] Permission denied: './csv/'",
     "output_type": "error",
     "traceback": [
      "\u001b[1;31m---------------------------------------------------------------------------\u001b[0m",
      "\u001b[1;31mPermissionError\u001b[0m                           Traceback (most recent call last)",
      "\u001b[1;32mc:\\Users\\Giovanna Furlan\\OneDrive\\Documentos\\GitHub\\M8\\pacotePython\\inteli.ipynb Cell 4\u001b[0m line \u001b[0;36m4\n\u001b[0;32m      <a href='vscode-notebook-cell:/c%3A/Users/Giovanna%20Furlan/OneDrive/Documentos/GitHub/M8/pacotePython/inteli.ipynb#W2sZmlsZQ%3D%3D?line=0'>1</a>\u001b[0m \u001b[39m# Especifique o diretório onde estão os arquivos CSV originais\u001b[39;00m\n\u001b[0;32m      <a href='vscode-notebook-cell:/c%3A/Users/Giovanna%20Furlan/OneDrive/Documentos/GitHub/M8/pacotePython/inteli.ipynb#W2sZmlsZQ%3D%3D?line=1'>2</a>\u001b[0m input_csv_dir \u001b[39m=\u001b[39m \u001b[39m\"\u001b[39m\u001b[39m./csv/\u001b[39m\u001b[39m\"\u001b[39m\n\u001b[1;32m----> <a href='vscode-notebook-cell:/c%3A/Users/Giovanna%20Furlan/OneDrive/Documentos/GitHub/M8/pacotePython/inteli.ipynb#W2sZmlsZQ%3D%3D?line=3'>4</a>\u001b[0m check_csv_file \u001b[39m=\u001b[39m inteli\u001b[39m.\u001b[39;49mcheck_csv_file(\u001b[39m'\u001b[39;49m\u001b[39m./csv/\u001b[39;49m\u001b[39m'\u001b[39;49m)\n\u001b[0;32m      <a href='vscode-notebook-cell:/c%3A/Users/Giovanna%20Furlan/OneDrive/Documentos/GitHub/M8/pacotePython/inteli.ipynb#W2sZmlsZQ%3D%3D?line=5'>6</a>\u001b[0m \u001b[39m# Especifique o diretório onde deseja salvar os arquivos tratados\u001b[39;00m\n\u001b[0;32m      <a href='vscode-notebook-cell:/c%3A/Users/Giovanna%20Furlan/OneDrive/Documentos/GitHub/M8/pacotePython/inteli.ipynb#W2sZmlsZQ%3D%3D?line=6'>7</a>\u001b[0m output_csv_dir \u001b[39m=\u001b[39m \u001b[39m\"\u001b[39m\u001b[39m./csv_tratados/\u001b[39m\u001b[39m\"\u001b[39m\n",
      "File \u001b[1;32mc:\\Users\\Giovanna Furlan\\OneDrive\\Documentos\\GitHub\\M8\\pacotePython\\intelidata\\lib.py:26\u001b[0m, in \u001b[0;36mcheck_csv_file\u001b[1;34m(csv_path)\u001b[0m\n\u001b[0;32m     25\u001b[0m \u001b[39mdef\u001b[39;00m \u001b[39mcheck_csv_file\u001b[39m(csv_path):\n\u001b[1;32m---> 26\u001b[0m     \u001b[39mwith\u001b[39;00m \u001b[39mopen\u001b[39;49m(csv_path, \u001b[39m'\u001b[39;49m\u001b[39mr\u001b[39;49m\u001b[39m'\u001b[39;49m, newline\u001b[39m=\u001b[39;49m\u001b[39m'\u001b[39;49m\u001b[39m'\u001b[39;49m) \u001b[39mas\u001b[39;00m file:\n\u001b[0;32m     27\u001b[0m         reader \u001b[39m=\u001b[39m csv\u001b[39m.\u001b[39mreader(file)\n\u001b[0;32m     28\u001b[0m         header \u001b[39m=\u001b[39m \u001b[39mnext\u001b[39m(reader)\n",
      "\u001b[1;31mPermissionError\u001b[0m: [Errno 13] Permission denied: './csv/'"
     ]
    }
   ],
   "source": [
    "\n",
    "\n",
    "# Especifique o diretório onde deseja salvar os arquivos tratados\n",
    "output_csv_dir = \"./csv_tratados/\"\n",
    "\n",
    "# Certifique-se de que o diretório de saída exista, ou crie-o se necessário\n",
    "os.makedirs(output_csv_dir, exist_ok=True)\n",
    "\n",
    "# Lista todos os arquivos CSV na pasta de entrada\n",
    "csv_files = [f for f in os.listdir(input_csv_dir) if f.endswith('.csv')]\n",
    "\n",
    "# Itera sobre cada arquivo CSV na pasta de entrada\n",
    "for csv_file in csv_files:\n",
    "    # Carrega o arquivo CSV original com a função de codificação\n",
    "    csv_path = os.path.join(input_csv_dir, csv_file)\n",
    "    data = inteli.load_data_with_encoding(csv_path)\n",
    "    \n",
    "    if data is None:\n",
    "        print(f\"Não foi possível ler o arquivo: {csv_file}\")\n",
    "        continue\n",
    "    \n",
    "    print(f\"Tratando o arquivo: {csv_file}\")\n",
    "    \n",
    "    # Aplica o tratamento nos dados\n",
    "    cleaned_df = inteli.clean_data(data)\n",
    "    \n",
    "    # Verifica e remove linhas duplicadas, se houver\n",
    "    duplicates = inteli.check_for_duplicates(cleaned_df)\n",
    "    \n",
    "    if not duplicates.empty:\n",
    "        print(\"Linhas duplicadas encontradas:\")\n",
    "        print(duplicates)\n",
    "\n",
    "        cleaned_df.drop_duplicates(keep='first', inplace=True)\n",
    "        print(\"Linhas duplicadas removidas, mantendo a primeira ocorrência.\")\n",
    "    else:\n",
    "        print(\"Não foram encontradas linhas duplicadas no DataFrame.\")\n",
    "    \n",
    "    # Salva o arquivo tratado com o mesmo nome na pasta de saída\n",
    "    output_csv_path = os.path.join(output_csv_dir, csv_file)\n",
    "    cleaned_df.to_csv(output_csv_path, index=False)\n"
   ]
  }
 ],
 "metadata": {
  "kernelspec": {
   "display_name": "Python 3 (ipykernel)",
   "language": "python",
   "name": "python3"
  },
  "language_info": {
   "codemirror_mode": {
    "name": "ipython",
    "version": 3
   },
   "file_extension": ".py",
   "mimetype": "text/x-python",
   "name": "python",
   "nbconvert_exporter": "python",
   "pygments_lexer": "ipython3",
   "version": "3.10.6"
  }
 },
 "nbformat": 4,
 "nbformat_minor": 2
}
