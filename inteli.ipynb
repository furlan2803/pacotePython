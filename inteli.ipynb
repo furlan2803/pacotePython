{
 "cells": [
  {
   "cell_type": "code",
   "execution_count": 1,
   "metadata": {},
   "outputs": [],
   "source": [
    "%load_ext autoreload\n",
    "%autoreload 2"
   ]
  },
  {
   "cell_type": "code",
   "execution_count": 2,
   "metadata": {},
   "outputs": [
    {
     "name": "stdout",
     "output_type": "stream",
     "text": [
      "Processing c:\\users\\giovanna furlan\\onedrive\\documentos\\github\\m8\\pacotepython\n",
      "  Installing build dependencies: started\n",
      "  Installing build dependencies: finished with status 'done'\n",
      "  Getting requirements to build wheel: started\n",
      "  Getting requirements to build wheel: finished with status 'done'\n",
      "  Preparing metadata (pyproject.toml): started\n",
      "  Preparing metadata (pyproject.toml): finished with status 'done'\n",
      "Building wheels for collected packages: intelidata\n",
      "  Building wheel for intelidata (pyproject.toml): started\n",
      "  Building wheel for intelidata (pyproject.toml): finished with status 'done'\n",
      "  Created wheel for intelidata: filename=intelidata-0.0.0-py3-none-any.whl size=1832 sha256=377cf792634a5c8405927645dc029558adf3c2674b40f92e652e77090b05ffad\n",
      "  Stored in directory: C:\\Users\\Giovanna Furlan\\AppData\\Local\\Temp\\pip-ephem-wheel-cache-sdowvgij\\wheels\\45\\4f\\16\\b0ab5d01596f6d2a057e9417227fdd5921bd4229013ee5561b\n",
      "Successfully built intelidata\n",
      "Installing collected packages: intelidata\n",
      "  Attempting uninstall: intelidata\n",
      "    Found existing installation: intelidata 0.0.0\n",
      "    Uninstalling intelidata-0.0.0:\n",
      "      Successfully uninstalled intelidata-0.0.0\n",
      "Successfully installed intelidata-0.0.0\n"
     ]
    },
    {
     "name": "stderr",
     "output_type": "stream",
     "text": [
      "\n",
      "[notice] A new release of pip is available: 23.2.1 -> 23.3.1\n",
      "[notice] To update, run: C:\\Users\\Giovanna Furlan\\AppData\\Local\\Microsoft\\WindowsApps\\PythonSoftwareFoundation.Python.3.11_qbz5n2kfra8p0\\python.exe -m pip install --upgrade pip\n"
     ]
    },
    {
     "name": "stdout",
     "output_type": "stream",
     "text": [
      "Requirement already satisfied: chardet in c:\\users\\giovanna furlan\\appdata\\local\\packages\\pythonsoftwarefoundation.python.3.11_qbz5n2kfra8p0\\localcache\\local-packages\\python311\\site-packages (5.2.0)\n"
     ]
    },
    {
     "name": "stderr",
     "output_type": "stream",
     "text": [
      "\n",
      "[notice] A new release of pip is available: 23.2.1 -> 23.3.1\n",
      "[notice] To update, run: C:\\Users\\Giovanna Furlan\\AppData\\Local\\Microsoft\\WindowsApps\\PythonSoftwareFoundation.Python.3.11_qbz5n2kfra8p0\\python.exe -m pip install --upgrade pip\n"
     ]
    },
    {
     "name": "stdout",
     "output_type": "stream",
     "text": [
      "Requirement already satisfied: boto3 in c:\\users\\giovanna furlan\\appdata\\local\\packages\\pythonsoftwarefoundation.python.3.11_qbz5n2kfra8p0\\localcache\\local-packages\\python311\\site-packages (1.28.78)\n",
      "Requirement already satisfied: botocore<1.32.0,>=1.31.78 in c:\\users\\giovanna furlan\\appdata\\local\\packages\\pythonsoftwarefoundation.python.3.11_qbz5n2kfra8p0\\localcache\\local-packages\\python311\\site-packages (from boto3) (1.31.78)\n",
      "Requirement already satisfied: jmespath<2.0.0,>=0.7.1 in c:\\users\\giovanna furlan\\appdata\\local\\packages\\pythonsoftwarefoundation.python.3.11_qbz5n2kfra8p0\\localcache\\local-packages\\python311\\site-packages (from boto3) (1.0.1)\n",
      "Requirement already satisfied: s3transfer<0.8.0,>=0.7.0 in c:\\users\\giovanna furlan\\appdata\\local\\packages\\pythonsoftwarefoundation.python.3.11_qbz5n2kfra8p0\\localcache\\local-packages\\python311\\site-packages (from boto3) (0.7.0)\n",
      "Requirement already satisfied: python-dateutil<3.0.0,>=2.1 in c:\\users\\giovanna furlan\\appdata\\local\\packages\\pythonsoftwarefoundation.python.3.11_qbz5n2kfra8p0\\localcache\\local-packages\\python311\\site-packages (from botocore<1.32.0,>=1.31.78->boto3) (2.8.2)\n",
      "Requirement already satisfied: urllib3<2.1,>=1.25.4 in c:\\users\\giovanna furlan\\appdata\\local\\packages\\pythonsoftwarefoundation.python.3.11_qbz5n2kfra8p0\\localcache\\local-packages\\python311\\site-packages (from botocore<1.32.0,>=1.31.78->boto3) (2.0.3)\n",
      "Requirement already satisfied: six>=1.5 in c:\\users\\giovanna furlan\\appdata\\local\\packages\\pythonsoftwarefoundation.python.3.11_qbz5n2kfra8p0\\localcache\\local-packages\\python311\\site-packages (from python-dateutil<3.0.0,>=2.1->botocore<1.32.0,>=1.31.78->boto3) (1.16.0)\n"
     ]
    },
    {
     "name": "stderr",
     "output_type": "stream",
     "text": [
      "\n",
      "[notice] A new release of pip is available: 23.2.1 -> 23.3.1\n",
      "[notice] To update, run: C:\\Users\\Giovanna Furlan\\AppData\\Local\\Microsoft\\WindowsApps\\PythonSoftwareFoundation.Python.3.11_qbz5n2kfra8p0\\python.exe -m pip install --upgrade pip\n"
     ]
    }
   ],
   "source": [
    "!pip install .\n",
    "import os\n",
    "import pandas as pd\n",
    "import intelidata.lib as inteli\n",
    "!pip install chardet\n",
    "!pip install boto3\n",
    "import boto3\n",
    "import os"
   ]
  },
  {
   "cell_type": "code",
   "execution_count": 3,
   "metadata": {},
   "outputs": [
    {
     "name": "stdout",
     "output_type": "stream",
     "text": [
      "['DNOPEN22.csv', 'DNOPEN23.csv', 'esus-vepi.LeitoOcupacao_2020.csv', 'esus-vepi.LeitoOcupacao_2021.csv', 'esus-vepi.LeitoOcupacao_2022.csv', 'INFLUD21-01-05-2023.csv', 'INFLUD22-03-04-2023.csv', 'INFLUD23-16-10-2023.csv', 'Leitos_2007.csv', 'Leitos_2008.csv', 'Leitos_2009.csv', 'Leitos_2010.csv', 'Leitos_2011.csv', 'Leitos_2012.csv', 'Leitos_2013.csv', 'Leitos_2014.csv', 'Leitos_2015.csv', 'Leitos_2016.csv', 'Leitos_2017.csv', 'Leitos_2018.csv', 'Leitos_2019.csv', 'Leitos_2020.csv', 'Leitos_2021.csv', 'Leitos_2022.csv', 'Leitos_2023.csv', 'SINASC_2005.csv', 'SINASC_2007.csv', 'SINASC_2008.csv', 'SINASC_2009.csv', 'SINASC_2010.csv', 'SINASC_2011.csv', 'SINASC_2012.csv', 'SINASC_2013.csv', 'SINASC_2014.csv', 'SINASC_2015.csv', 'SINASC_2016.csv', 'SINASC_2017.csv', 'SINASC_2018.csv', 'SINASC_2019.csv', 'SINASC_2020.csv', 'SINASC_2021.csv']\n"
     ]
    }
   ],
   "source": [
    "import os\n",
    "\n",
    "# Defina o caminho da pasta onde estão os arquivos CSV\n",
    "pasta = './csv'\n",
    "\n",
    "# Inicialize uma lista vazia para armazenar os nomes dos arquivos CSV\n",
    "nomes_arquivos = []\n",
    "\n",
    "# Percorra os arquivos na pasta\n",
    "for nome_arquivo in os.listdir(pasta):\n",
    "    if nome_arquivo.endswith('.csv'):\n",
    "        nomes_arquivos.append(nome_arquivo)\n",
    "\n",
    "# Agora a lista nomes_arquivos contém os nomes dos arquivos CSV na pasta\n",
    "print(nomes_arquivos)\n"
   ]
  },
  {
   "cell_type": "code",
   "execution_count": 4,
   "metadata": {},
   "outputs": [
    {
     "name": "stdout",
     "output_type": "stream",
     "text": [
      "Arquivo DNOPEN22.csv tratado e salvo como ./csv_tratados\\DNOPEN22.csv_tratado.csv\n",
      "Arquivo DNOPEN23.csv tratado e salvo como ./csv_tratados\\DNOPEN23.csv_tratado.csv\n"
     ]
    },
    {
     "name": "stderr",
     "output_type": "stream",
     "text": [
      "C:\\Users\\Giovanna Furlan\\AppData\\Local\\Temp\\ipykernel_10176\\1864170659.py:19: DtypeWarning: Columns (3) have mixed types. Specify dtype option on import or set low_memory=False.\n",
      "  df = pd.read_csv(caminho_completo_arquivo, encoding='latin1', sep=separador)\n"
     ]
    },
    {
     "name": "stdout",
     "output_type": "stream",
     "text": [
      "Arquivo esus-vepi.LeitoOcupacao_2020.csv tratado e salvo como ./csv_tratados\\esus-vepi.LeitoOcupacao_2020.csv_tratado.csv\n"
     ]
    },
    {
     "name": "stderr",
     "output_type": "stream",
     "text": [
      "C:\\Users\\Giovanna Furlan\\AppData\\Local\\Temp\\ipykernel_10176\\1864170659.py:19: DtypeWarning: Columns (3) have mixed types. Specify dtype option on import or set low_memory=False.\n",
      "  df = pd.read_csv(caminho_completo_arquivo, encoding='latin1', sep=separador)\n"
     ]
    },
    {
     "name": "stdout",
     "output_type": "stream",
     "text": [
      "Arquivo esus-vepi.LeitoOcupacao_2021.csv tratado e salvo como ./csv_tratados\\esus-vepi.LeitoOcupacao_2021.csv_tratado.csv\n",
      "Arquivo esus-vepi.LeitoOcupacao_2022.csv tratado e salvo como ./csv_tratados\\esus-vepi.LeitoOcupacao_2022.csv_tratado.csv\n"
     ]
    },
    {
     "name": "stderr",
     "output_type": "stream",
     "text": [
      "C:\\Users\\Giovanna Furlan\\AppData\\Local\\Temp\\ipykernel_10176\\1864170659.py:19: DtypeWarning: Columns (15,59,61,62,63,91,93,105,107,114,116,117,118,122,143) have mixed types. Specify dtype option on import or set low_memory=False.\n",
      "  df = pd.read_csv(caminho_completo_arquivo, encoding='latin1', sep=separador)\n"
     ]
    },
    {
     "name": "stdout",
     "output_type": "stream",
     "text": [
      "Arquivo INFLUD21-01-05-2023.csv tratado e salvo como ./csv_tratados\\INFLUD21-01-05-2023.csv_tratado.csv\n"
     ]
    },
    {
     "name": "stderr",
     "output_type": "stream",
     "text": [
      "C:\\Users\\Giovanna Furlan\\AppData\\Local\\Temp\\ipykernel_10176\\1864170659.py:19: DtypeWarning: Columns (15,53,59,61,62,63,91,93,120,122,143,171) have mixed types. Specify dtype option on import or set low_memory=False.\n",
      "  df = pd.read_csv(caminho_completo_arquivo, encoding='latin1', sep=separador)\n"
     ]
    },
    {
     "name": "stdout",
     "output_type": "stream",
     "text": [
      "Arquivo INFLUD22-03-04-2023.csv tratado e salvo como ./csv_tratados\\INFLUD22-03-04-2023.csv_tratado.csv\n"
     ]
    },
    {
     "name": "stderr",
     "output_type": "stream",
     "text": [
      "C:\\Users\\Giovanna Furlan\\AppData\\Local\\Temp\\ipykernel_10176\\1864170659.py:19: DtypeWarning: Columns (15,53,63,91,93,143) have mixed types. Specify dtype option on import or set low_memory=False.\n",
      "  df = pd.read_csv(caminho_completo_arquivo, encoding='latin1', sep=separador)\n"
     ]
    },
    {
     "name": "stdout",
     "output_type": "stream",
     "text": [
      "Arquivo INFLUD23-16-10-2023.csv tratado e salvo como ./csv_tratados\\INFLUD23-16-10-2023.csv_tratado.csv\n",
      "Arquivo Leitos_2007.csv tratado e salvo como ./csv_tratados\\Leitos_2007.csv_tratado.csv\n",
      "Arquivo Leitos_2008.csv tratado e salvo como ./csv_tratados\\Leitos_2008.csv_tratado.csv\n",
      "Arquivo Leitos_2009.csv tratado e salvo como ./csv_tratados\\Leitos_2009.csv_tratado.csv\n",
      "Arquivo Leitos_2010.csv tratado e salvo como ./csv_tratados\\Leitos_2010.csv_tratado.csv\n",
      "Arquivo Leitos_2011.csv tratado e salvo como ./csv_tratados\\Leitos_2011.csv_tratado.csv\n",
      "Arquivo Leitos_2012.csv tratado e salvo como ./csv_tratados\\Leitos_2012.csv_tratado.csv\n",
      "Arquivo Leitos_2013.csv tratado e salvo como ./csv_tratados\\Leitos_2013.csv_tratado.csv\n",
      "Arquivo Leitos_2014.csv tratado e salvo como ./csv_tratados\\Leitos_2014.csv_tratado.csv\n",
      "Arquivo Leitos_2015.csv tratado e salvo como ./csv_tratados\\Leitos_2015.csv_tratado.csv\n",
      "Arquivo Leitos_2016.csv tratado e salvo como ./csv_tratados\\Leitos_2016.csv_tratado.csv\n",
      "Arquivo Leitos_2017.csv tratado e salvo como ./csv_tratados\\Leitos_2017.csv_tratado.csv\n",
      "Arquivo Leitos_2018.csv tratado e salvo como ./csv_tratados\\Leitos_2018.csv_tratado.csv\n",
      "Arquivo Leitos_2019.csv tratado e salvo como ./csv_tratados\\Leitos_2019.csv_tratado.csv\n",
      "Arquivo Leitos_2020.csv tratado e salvo como ./csv_tratados\\Leitos_2020.csv_tratado.csv\n",
      "Arquivo Leitos_2021.csv tratado e salvo como ./csv_tratados\\Leitos_2021.csv_tratado.csv\n",
      "Arquivo Leitos_2022.csv tratado e salvo como ./csv_tratados\\Leitos_2022.csv_tratado.csv\n",
      "Arquivo Leitos_2023.csv tratado e salvo como ./csv_tratados\\Leitos_2023.csv_tratado.csv\n",
      "Arquivo SINASC_2005.csv tratado e salvo como ./csv_tratados\\SINASC_2005.csv_tratado.csv\n",
      "Arquivo SINASC_2007.csv tratado e salvo como ./csv_tratados\\SINASC_2007.csv_tratado.csv\n",
      "Arquivo SINASC_2008.csv tratado e salvo como ./csv_tratados\\SINASC_2008.csv_tratado.csv\n"
     ]
    },
    {
     "name": "stderr",
     "output_type": "stream",
     "text": [
      "C:\\Users\\Giovanna Furlan\\AppData\\Local\\Temp\\ipykernel_10176\\1864170659.py:19: DtypeWarning: Columns (16) have mixed types. Specify dtype option on import or set low_memory=False.\n",
      "  df = pd.read_csv(caminho_completo_arquivo, encoding='latin1', sep=separador)\n"
     ]
    },
    {
     "name": "stdout",
     "output_type": "stream",
     "text": [
      "Arquivo SINASC_2009.csv tratado e salvo como ./csv_tratados\\SINASC_2009.csv_tratado.csv\n"
     ]
    },
    {
     "name": "stderr",
     "output_type": "stream",
     "text": [
      "C:\\Users\\Giovanna Furlan\\AppData\\Local\\Temp\\ipykernel_10176\\1864170659.py:19: DtypeWarning: Columns (21) have mixed types. Specify dtype option on import or set low_memory=False.\n",
      "  df = pd.read_csv(caminho_completo_arquivo, encoding='latin1', sep=separador)\n"
     ]
    },
    {
     "name": "stdout",
     "output_type": "stream",
     "text": [
      "Arquivo SINASC_2010.csv tratado e salvo como ./csv_tratados\\SINASC_2010.csv_tratado.csv\n"
     ]
    },
    {
     "name": "stderr",
     "output_type": "stream",
     "text": [
      "C:\\Users\\Giovanna Furlan\\AppData\\Local\\Temp\\ipykernel_10176\\1864170659.py:19: DtypeWarning: Columns (21) have mixed types. Specify dtype option on import or set low_memory=False.\n",
      "  df = pd.read_csv(caminho_completo_arquivo, encoding='latin1', sep=separador)\n"
     ]
    },
    {
     "name": "stdout",
     "output_type": "stream",
     "text": [
      "Arquivo SINASC_2011.csv tratado e salvo como ./csv_tratados\\SINASC_2011.csv_tratado.csv\n",
      "Arquivo SINASC_2012.csv tratado e salvo como ./csv_tratados\\SINASC_2012.csv_tratado.csv\n",
      "Arquivo SINASC_2013.csv tratado e salvo como ./csv_tratados\\SINASC_2013.csv_tratado.csv\n"
     ]
    },
    {
     "name": "stderr",
     "output_type": "stream",
     "text": [
      "C:\\Users\\Giovanna Furlan\\AppData\\Local\\Temp\\ipykernel_10176\\1864170659.py:19: DtypeWarning: Columns (17) have mixed types. Specify dtype option on import or set low_memory=False.\n",
      "  df = pd.read_csv(caminho_completo_arquivo, encoding='latin1', sep=separador)\n"
     ]
    },
    {
     "name": "stdout",
     "output_type": "stream",
     "text": [
      "Arquivo SINASC_2014.csv tratado e salvo como ./csv_tratados\\SINASC_2014.csv_tratado.csv\n",
      "Arquivo SINASC_2015.csv tratado e salvo como ./csv_tratados\\SINASC_2015.csv_tratado.csv\n",
      "Arquivo SINASC_2016.csv tratado e salvo como ./csv_tratados\\SINASC_2016.csv_tratado.csv\n",
      "Arquivo SINASC_2017.csv tratado e salvo como ./csv_tratados\\SINASC_2017.csv_tratado.csv\n",
      "Arquivo SINASC_2018.csv tratado e salvo como ./csv_tratados\\SINASC_2018.csv_tratado.csv\n",
      "Arquivo SINASC_2019.csv tratado e salvo como ./csv_tratados\\SINASC_2019.csv_tratado.csv\n",
      "Arquivo SINASC_2020.csv tratado e salvo como ./csv_tratados\\SINASC_2020.csv_tratado.csv\n",
      "Arquivo SINASC_2021.csv tratado e salvo como ./csv_tratados\\SINASC_2021.csv_tratado.csv\n"
     ]
    }
   ],
   "source": [
    "import pandas as pd\n",
    "import os\n",
    "\n",
    "pasta_tratados = './csv_tratados'\n",
    "\n",
    "# Defina o valor para preencher os dados nulos\n",
    "valor_preenchimento = \"null\"\n",
    "\n",
    "# Lista de separadores a serem testados\n",
    "separadores = [',', ';']\n",
    "\n",
    "# Percorra os arquivos na pasta\n",
    "for nome_arquivo in nomes_arquivos:\n",
    "    caminho_completo_arquivo = os.path.join('./csv/', nome_arquivo)\n",
    "\n",
    "    # Tente ler o arquivo com diferentes separadores\n",
    "    for separador in separadores:\n",
    "        try:\n",
    "            df = pd.read_csv(caminho_completo_arquivo, encoding='latin1', sep=separador)\n",
    "            # Se a leitura for bem-sucedida, saia do loop e continue\n",
    "            break\n",
    "        except pd.errors.ParserError:\n",
    "            # Se a leitura com o separador atual falhar, continue tentando com o próximo separador\n",
    "            continue\n",
    "\n",
    "    # Preencha os dados nulos com o valor desejado (N/D)\n",
    "    df = df.fillna(valor_preenchimento)\n",
    "\n",
    "    # Salve o arquivo tratado de volta na mesma pasta (ou em uma pasta diferente, se necessário)\n",
    "    caminho_arquivo_tratado = os.path.join(pasta_tratados, f\"{nome_arquivo}_tratado.csv\")\n",
    "    df.to_csv(caminho_arquivo_tratado, index=False, sep=separador, encoding='utf-8')  # Salve com UTF-8 para manter os acentos\n",
    "\n",
    "    print(f\"Arquivo {nome_arquivo} tratado e salvo como {caminho_arquivo_tratado}\")\n"
   ]
  }
 ],
 "metadata": {
  "kernelspec": {
   "display_name": "Python 3",
   "language": "python",
   "name": "python3"
  },
  "language_info": {
   "codemirror_mode": {
    "name": "ipython",
    "version": 3
   },
   "file_extension": ".py",
   "mimetype": "text/x-python",
   "name": "python",
   "nbconvert_exporter": "python",
   "pygments_lexer": "ipython3",
   "version": "3.11.6"
  }
 },
 "nbformat": 4,
 "nbformat_minor": 2
}
