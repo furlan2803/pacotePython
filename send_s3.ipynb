{
 "cells": [
  {
   "cell_type": "code",
   "execution_count": 2,
   "metadata": {},
   "outputs": [
    {
     "name": "stderr",
     "output_type": "stream",
     "text": [
      "\n",
      "[notice] A new release of pip is available: 23.2.1 -> 23.3.1\n",
      "[notice] To update, run: C:\\Users\\Giovanna Furlan\\AppData\\Local\\Microsoft\\WindowsApps\\PythonSoftwareFoundation.Python.3.11_qbz5n2kfra8p0\\python.exe -m pip install --upgrade pip\n"
     ]
    },
    {
     "name": "stdout",
     "output_type": "stream",
     "text": [
      "Requirement already satisfied: python-dotenv in c:\\users\\giovanna furlan\\appdata\\local\\packages\\pythonsoftwarefoundation.python.3.11_qbz5n2kfra8p0\\localcache\\local-packages\\python311\\site-packages (1.0.0)\n"
     ]
    }
   ],
   "source": [
    "!pip install python-dotenv\n",
    "import pandas as pd\n",
    "import boto3\n",
    "import os\n",
    "from dotenv import load_dotenv"
   ]
  },
  {
   "cell_type": "code",
   "execution_count": 3,
   "metadata": {},
   "outputs": [
    {
     "data": {
      "text/plain": [
       "True"
      ]
     },
     "execution_count": 3,
     "metadata": {},
     "output_type": "execute_result"
    }
   ],
   "source": [
    "load_dotenv('.env.tmpl')"
   ]
  },
  {
   "cell_type": "code",
   "execution_count": 5,
   "metadata": {},
   "outputs": [
    {
     "name": "stdout",
     "output_type": "stream",
     "text": [
      "O arquivo DNOPEN22.csv_tratado.csv foi enviado para o Amazon S3 com a chave DNOPEN22.csv_tratado.csv.\n",
      "O arquivo DNOPEN23.csv_tratado.csv foi enviado para o Amazon S3 com a chave DNOPEN23.csv_tratado.csv.\n",
      "O arquivo esus-vepi.LeitoOcupacao_2020.csv_tratado.csv foi enviado para o Amazon S3 com a chave esus-vepi.LeitoOcupacao_2020.csv_tratado.csv.\n",
      "O arquivo esus-vepi.LeitoOcupacao_2021.csv_tratado.csv foi enviado para o Amazon S3 com a chave esus-vepi.LeitoOcupacao_2021.csv_tratado.csv.\n",
      "O arquivo esus-vepi.LeitoOcupacao_2022.csv_tratado.csv foi enviado para o Amazon S3 com a chave esus-vepi.LeitoOcupacao_2022.csv_tratado.csv.\n",
      "O arquivo INFLUD21-01-05-2023.csv_tratado.csv foi enviado para o Amazon S3 com a chave INFLUD21-01-05-2023.csv_tratado.csv.\n",
      "O arquivo INFLUD22-03-04-2023.csv_tratado.csv foi enviado para o Amazon S3 com a chave INFLUD22-03-04-2023.csv_tratado.csv.\n",
      "O arquivo INFLUD23-16-10-2023.csv_tratado.csv foi enviado para o Amazon S3 com a chave INFLUD23-16-10-2023.csv_tratado.csv.\n",
      "O arquivo Leitos_2007.csv_tratado.csv foi enviado para o Amazon S3 com a chave Leitos_2007.csv_tratado.csv.\n",
      "O arquivo Leitos_2008.csv_tratado.csv foi enviado para o Amazon S3 com a chave Leitos_2008.csv_tratado.csv.\n",
      "O arquivo Leitos_2009.csv_tratado.csv foi enviado para o Amazon S3 com a chave Leitos_2009.csv_tratado.csv.\n",
      "O arquivo Leitos_2010.csv_tratado.csv foi enviado para o Amazon S3 com a chave Leitos_2010.csv_tratado.csv.\n",
      "O arquivo Leitos_2011.csv_tratado.csv foi enviado para o Amazon S3 com a chave Leitos_2011.csv_tratado.csv.\n",
      "O arquivo Leitos_2012.csv_tratado.csv foi enviado para o Amazon S3 com a chave Leitos_2012.csv_tratado.csv.\n",
      "O arquivo Leitos_2013.csv_tratado.csv foi enviado para o Amazon S3 com a chave Leitos_2013.csv_tratado.csv.\n",
      "O arquivo Leitos_2014.csv_tratado.csv foi enviado para o Amazon S3 com a chave Leitos_2014.csv_tratado.csv.\n",
      "O arquivo Leitos_2015.csv_tratado.csv foi enviado para o Amazon S3 com a chave Leitos_2015.csv_tratado.csv.\n",
      "O arquivo Leitos_2016.csv_tratado.csv foi enviado para o Amazon S3 com a chave Leitos_2016.csv_tratado.csv.\n",
      "O arquivo Leitos_2017.csv_tratado.csv foi enviado para o Amazon S3 com a chave Leitos_2017.csv_tratado.csv.\n",
      "O arquivo Leitos_2018.csv_tratado.csv foi enviado para o Amazon S3 com a chave Leitos_2018.csv_tratado.csv.\n",
      "O arquivo Leitos_2019.csv_tratado.csv foi enviado para o Amazon S3 com a chave Leitos_2019.csv_tratado.csv.\n",
      "O arquivo Leitos_2020.csv_tratado.csv foi enviado para o Amazon S3 com a chave Leitos_2020.csv_tratado.csv.\n",
      "O arquivo Leitos_2021.csv_tratado.csv foi enviado para o Amazon S3 com a chave Leitos_2021.csv_tratado.csv.\n",
      "O arquivo Leitos_2022.csv_tratado.csv foi enviado para o Amazon S3 com a chave Leitos_2022.csv_tratado.csv.\n",
      "O arquivo Leitos_2023.csv_tratado.csv foi enviado para o Amazon S3 com a chave Leitos_2023.csv_tratado.csv.\n",
      "O arquivo SINASC_2005.csv_tratado.csv foi enviado para o Amazon S3 com a chave SINASC_2005.csv_tratado.csv.\n",
      "O arquivo SINASC_2007.csv_tratado.csv foi enviado para o Amazon S3 com a chave SINASC_2007.csv_tratado.csv.\n",
      "O arquivo SINASC_2008.csv_tratado.csv foi enviado para o Amazon S3 com a chave SINASC_2008.csv_tratado.csv.\n",
      "O arquivo SINASC_2009.csv_tratado.csv foi enviado para o Amazon S3 com a chave SINASC_2009.csv_tratado.csv.\n",
      "O arquivo SINASC_2010.csv_tratado.csv foi enviado para o Amazon S3 com a chave SINASC_2010.csv_tratado.csv.\n",
      "O arquivo SINASC_2011.csv_tratado.csv foi enviado para o Amazon S3 com a chave SINASC_2011.csv_tratado.csv.\n",
      "O arquivo SINASC_2012.csv_tratado.csv foi enviado para o Amazon S3 com a chave SINASC_2012.csv_tratado.csv.\n",
      "O arquivo SINASC_2013.csv_tratado.csv foi enviado para o Amazon S3 com a chave SINASC_2013.csv_tratado.csv.\n",
      "O arquivo SINASC_2014.csv_tratado.csv foi enviado para o Amazon S3 com a chave SINASC_2014.csv_tratado.csv.\n",
      "O arquivo SINASC_2015.csv_tratado.csv foi enviado para o Amazon S3 com a chave SINASC_2015.csv_tratado.csv.\n",
      "O arquivo SINASC_2016.csv_tratado.csv foi enviado para o Amazon S3 com a chave SINASC_2016.csv_tratado.csv.\n",
      "O arquivo SINASC_2017.csv_tratado.csv foi enviado para o Amazon S3 com a chave SINASC_2017.csv_tratado.csv.\n",
      "O arquivo SINASC_2018.csv_tratado.csv foi enviado para o Amazon S3 com a chave SINASC_2018.csv_tratado.csv.\n",
      "O arquivo SINASC_2019.csv_tratado.csv foi enviado para o Amazon S3 com a chave SINASC_2019.csv_tratado.csv.\n",
      "O arquivo SINASC_2020.csv_tratado.csv foi enviado para o Amazon S3 com a chave SINASC_2020.csv_tratado.csv.\n",
      "O arquivo SINASC_2021.csv_tratado.csv foi enviado para o Amazon S3 com a chave SINASC_2021.csv_tratado.csv.\n",
      "Todos os arquivos CSV foram processados e enviados para o Amazon S3.\n"
     ]
    }
   ],
   "source": [
    "aws_access_key_id = os.getenv(\"aws_access_key_id\")\n",
    "aws_secret_access_key = os.getenv(\"aws_secret_access_key\")\n",
    "aws_session_token=\"\"\n",
    "region_name = 'us-east-1'\n",
    "bucket_name = ''\n",
    "csv_directory = './csv_tratados'\n",
    "\n",
    "s3 = boto3.client('s3', aws_access_key_id=aws_access_key_id, aws_secret_access_key=aws_secret_access_key, region_name=region_name, aws_session_token=aws_session_token)\n",
    "\n",
    "csv_files = [file for file in os.listdir(csv_directory) if file.endswith('.csv')]\n",
    "\n",
    "for csv_file in csv_files:\n",
    "    local_csv_file = os.path.join(csv_directory, csv_file)\n",
    "    s3_file_key = csv_file\n",
    "\n",
    "    s3.upload_file(local_csv_file, bucket_name, s3_file_key)\n",
    "\n",
    "    print(f'O arquivo {csv_file} foi enviado para o Amazon S3 com a chave {s3_file_key}.')\n",
    "\n",
    "print('Todos os arquivos CSV foram processados e enviados para o Amazon S3.')"
   ]
  }
 ],
 "metadata": {
  "kernelspec": {
   "display_name": "Python 3",
   "language": "python",
   "name": "python3"
  },
  "language_info": {
   "codemirror_mode": {
    "name": "ipython",
    "version": 3
   },
   "file_extension": ".py",
   "mimetype": "text/x-python",
   "name": "python",
   "nbconvert_exporter": "python",
   "pygments_lexer": "ipython3",
   "version": "3.11.6"
  }
 },
 "nbformat": 4,
 "nbformat_minor": 2
}
